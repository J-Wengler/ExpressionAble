{
 "cells": [
  {
   "cell_type": "markdown",
   "metadata": {},
   "source": [
    "## Load data into pandas DataFrame"
   ]
  },
  {
   "cell_type": "code",
   "execution_count": null,
   "metadata": {},
   "outputs": [],
   "source": [
    "    import sys\n",
    "    import pandas as pd\n",
    "    if sys.version_info[0] < 3:\n",
    "        from StringIO import StringIO\n",
    "    else:\n",
    "        from io import StringIO\n",
    "\n",
    "    dfString = \"\"\"index\tSample\tfloat1\tfloat2\tint1\tint2\tdiscrete1\tdiscrete2\tbool1\tbool2\tnull1\n",
    "0\tA\t1.2\t3.5\t4\t2\thot\tblue\tTrue\tTrue\t\n",
    "1\tB\t4.2\t7.3\t3\t9\tcold\tred\tFalse\tTrue\tyes\n",
    "2\tC\t7.1\t2.3\t5\t4\thot\tred\tTrue\tFalse\t\n",
    "3\tD\t1.1\t4.3\t5\t7\tmedium\tred\tFalse\tTrue\t\n",
    "4\tE\t2.5\t6.3\t1\t12\tcold\tblue\tFalse\tFalse\tno\n",
    "5\tF\t22.3\t5.2\t52\t3\tmedium\tblue\tTrue\tFalse\t\n",
    "6\tG\t9.3\t5.3\t5\t88\tcold\tred\tTrue\tTrue\t\n",
    "7\tH\t0.3\t7.7\t3\t7\thot\tblue\tFalse\tFalse\t\n",
    "8\tI\t8.0\t4.5\t8\t22\tmedium\tblue\tFalse\tTrue\t\n",
    "9\tJ\t52.1\t34.0\t42\t33\thot\tred\tTrue\tTrue\t\n",
    "10\tK\t6.6\t4.4\t4\t6\tcold\tblue\tTrue\tFalse\t\n",
    "11\tL\t0.3\t4.3\t5\t11\thot\tred\tTrue\tFalse\tyes\n",
    "12\tM\t9.4\t5.3\t2\t99\tcold\tred\tFalse\tTrue\tyes\n",
    "13\tO\t4.4\t7.7\t6\t6\tmedium\tred\tFalse\tFalse\t\n",
    "14\tP\t7.2\t3.3\t44\t3\tmedium\tblue\tTrue\tTrue\t\n",
    "15\tQ\t12.5\t33.2\t4\t6\tmedium\tred\tFalse\tFalse\tno\n",
    "16\tR\t7.7\t46.2\t3\t9\thot\tred\tFalse\tTrue\tno\n",
    "17\tS\t90.2\t1.2\t4\t11\thot\tblue\tFalse\tTrue\tno\n",
    "18\tT\t110.2\t4.2\t100\t12\tcold\tblue\tFalse\tFalse\t\n",
    "\"\"\"\n",
    "\n",
    "    df = pd.read_table(StringIO(dfString), sep='\t', index_col='index')\n",
    "    print(df)"
   ]
  },
  {
   "cell_type": "markdown",
   "metadata": {},
   "source": [
    "## Analyze data"
   ]
  },
  {
   "cell_type": "code",
   "execution_count": null,
   "metadata": {},
   "outputs": [],
   "source": [
    "df.info(max_cols = 10)"
   ]
  }
 ],
 "metadata": {},
 "nbformat": 4,
 "nbformat_minor": 2
}
